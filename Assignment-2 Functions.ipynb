{
 "cells": [
  {
   "cell_type": "markdown",
   "id": "6bcd0a49",
   "metadata": {},
   "source": [
    "### Q1. Which keyword is used to create a function? Create a function to return a list of odd numbers in therange of 1 to 25."
   ]
  },
  {
   "cell_type": "markdown",
   "id": "a547db10",
   "metadata": {},
   "source": [
    "def keyword is used"
   ]
  },
  {
   "cell_type": "code",
   "execution_count": 7,
   "id": "4c637892",
   "metadata": {},
   "outputs": [
    {
     "data": {
      "text/plain": [
       "[1, 3, 5, 7, 9, 11, 13, 15, 17, 19, 21, 23, 25]"
      ]
     },
     "execution_count": 7,
     "metadata": {},
     "output_type": "execute_result"
    }
   ],
   "source": [
    "def oddn():\n",
    "    oddnumber=[]\n",
    "    for i in range (1,26):\n",
    "        if i%2!=0:\n",
    "            oddnumber.append(i)\n",
    "    return oddnumber\n",
    "oddn()"
   ]
  },
  {
   "cell_type": "markdown",
   "id": "ae4e400a",
   "metadata": {},
   "source": [
    "### Q2. Why *args and **kwargs is used in some functions? Create a function each for *args and **kwargs to demonstrate their use."
   ]
  },
  {
   "cell_type": "markdown",
   "id": "e26f7d76",
   "metadata": {},
   "source": [
    "1. args- Used to store any number of input variable for the function of any type\n",
    "2. kwargs -Used to store any number of dictionary type variable for the function."
   ]
  },
  {
   "cell_type": "code",
   "execution_count": 13,
   "id": "e6f286fa",
   "metadata": {},
   "outputs": [
    {
     "data": {
      "text/plain": [
       "['Gaurav', 'Mukesh', 'Wrath of the titan']"
      ]
     },
     "execution_count": 13,
     "metadata": {},
     "output_type": "execute_result"
    }
   ],
   "source": [
    "def displayitems(*args):\n",
    "    d=[]\n",
    "    for i in args:\n",
    "        if type(i)==str:\n",
    "            d.append(i)\n",
    "    return d\n",
    "\n",
    "displayitems(5,3,6,7,\"Gaurav\",(4,3,2),\"Mukesh\",{4,3},{'Keys':\"values\"},'Wrath of the titan') "
   ]
  },
  {
   "cell_type": "code",
   "execution_count": 26,
   "id": "d3405f2f",
   "metadata": {},
   "outputs": [
    {
     "data": {
      "text/plain": [
       "{'a': 'Values'}"
      ]
     },
     "execution_count": 26,
     "metadata": {},
     "output_type": "execute_result"
    }
   ],
   "source": [
    "def displayitems(*args,**kwargs):\n",
    "    return kwargs\n",
    "\n",
    "displayitems(a='Values') "
   ]
  },
  {
   "cell_type": "markdown",
   "id": "e394bfe8",
   "metadata": {},
   "source": [
    "### Q3. What is an iterator in python? Name the method used to initialise the iterator object and the methodused for iteration. Use these methods to print the first five elements of the given list [2, 4, 6, 8, 10, 12, 14, 16,18, 20].\n",
    "\n",
    "\n",
    "Iterator in Python is an object that is used to iterate over iterable objects like lists, tuples, dicts, and sets. "
   ]
  },
  {
   "cell_type": "code",
   "execution_count": 29,
   "id": "cb08ecf2",
   "metadata": {},
   "outputs": [
    {
     "name": "stdout",
     "output_type": "stream",
     "text": [
      "2\n",
      "4\n",
      "6\n",
      "8\n",
      "10\n"
     ]
    }
   ],
   "source": [
    "list=[2, 4, 6, 8, 10, 12, 14, 16,18, 20]\n",
    "count=0\n",
    "for x in list:\n",
    "    if count<5:\n",
    "        print(x)\n",
    "    count=count+1"
   ]
  },
  {
   "cell_type": "markdown",
   "id": "242ecceb",
   "metadata": {},
   "source": [
    "### Q4. What is a generator function in python? Why yield keyword is used? Give an example of a generator function.\n",
    "\n",
    "Python Generator functions allow you to declare a function that behaves likes an iterator. Yield keyword is used to create a generator function"
   ]
  },
  {
   "cell_type": "code",
   "execution_count": 35,
   "id": "b94741c5",
   "metadata": {},
   "outputs": [
    {
     "name": "stdout",
     "output_type": "stream",
     "text": [
      "2\n",
      "4\n",
      "8\n",
      "16\n",
      "32\n",
      "64\n",
      "128\n",
      "256\n",
      "512\n",
      "1024\n"
     ]
    }
   ],
   "source": [
    "def func(n):\n",
    "    a=2\n",
    "    for i in range (n):\n",
    "        yield a\n",
    "        a=a*2\n",
    "for i in func(10):\n",
    "    print(i)"
   ]
  },
  {
   "cell_type": "markdown",
   "id": "43cd986a",
   "metadata": {},
   "source": [
    "### Q5. Create a generator function for prime numbers less than 1000. Use the next() method to print thefirst 20 prime numbers.\n"
   ]
  },
  {
   "cell_type": "code",
   "execution_count": 106,
   "id": "243ae891",
   "metadata": {},
   "outputs": [],
   "source": [
    "def prime():\n",
    "    list=[]\n",
    "    for num in range (1, 1000):\n",
    "        count = 0\n",
    "        for i in range(2, (num//2 + 1)):\n",
    "            if(num % i == 0):\n",
    "                count=count+1\n",
    "                break\n",
    "                \n",
    "        if (count==0 & num!=1):\n",
    "            list.append(num)\n",
    "    return list     "
   ]
  },
  {
   "cell_type": "code",
   "execution_count": 115,
   "id": "bde543c7",
   "metadata": {},
   "outputs": [
    {
     "name": "stdout",
     "output_type": "stream",
     "text": [
      "1\n",
      "2\n",
      "3\n",
      "5\n",
      "7\n",
      "11\n",
      "13\n",
      "17\n",
      "19\n",
      "23\n",
      "29\n",
      "31\n",
      "37\n",
      "41\n",
      "43\n",
      "47\n",
      "53\n",
      "59\n",
      "61\n",
      "67\n"
     ]
    }
   ],
   "source": [
    "x=iter(prime())\n",
    "for i in range(20):\n",
    "    print(next(x))"
   ]
  },
  {
   "cell_type": "code",
   "execution_count": null,
   "id": "6f6a88c4",
   "metadata": {},
   "outputs": [],
   "source": []
  },
  {
   "cell_type": "code",
   "execution_count": null,
   "id": "fe1728ac",
   "metadata": {},
   "outputs": [],
   "source": []
  }
 ],
 "metadata": {
  "kernelspec": {
   "display_name": "Python 3 (ipykernel)",
   "language": "python",
   "name": "python3"
  },
  "language_info": {
   "codemirror_mode": {
    "name": "ipython",
    "version": 3
   },
   "file_extension": ".py",
   "mimetype": "text/x-python",
   "name": "python",
   "nbconvert_exporter": "python",
   "pygments_lexer": "ipython3",
   "version": "3.10.6"
  }
 },
 "nbformat": 4,
 "nbformat_minor": 5
}
