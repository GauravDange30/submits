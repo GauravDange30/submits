{
 "cells": [
  {
   "cell_type": "markdown",
   "id": "6bcd0a49",
   "metadata": {},
   "source": [
    "### Q1. What are the characteristics of the tuples? Is tuple immutable?"
   ]
  },
  {
   "cell_type": "markdown",
   "id": "a547db10",
   "metadata": {},
   "source": [
    "Tuples are built in data type in Python. It is used to store values. We can add,remove,index data inside tuple but we cannot assign value inside tuple as it is immutable."
   ]
  },
  {
   "cell_type": "markdown",
   "id": "ae4e400a",
   "metadata": {},
   "source": [
    "### Q2 What are the two tuple methods in python? Give an example of each method. Give a reason why tuples have only two in-built methods as compared to Lists."
   ]
  },
  {
   "cell_type": "markdown",
   "id": "e26f7d76",
   "metadata": {},
   "source": [
    "1. index\n",
    "2. count"
   ]
  },
  {
   "cell_type": "code",
   "execution_count": 3,
   "id": "e6f286fa",
   "metadata": {},
   "outputs": [
    {
     "name": "stdout",
     "output_type": "stream",
     "text": [
      "2\n",
      "3\n"
     ]
    }
   ],
   "source": [
    "a=(4,2,5,6,7,8,9,2,5,2)\n",
    "print(a.index(5))  # Should give index position of 5 as 2\n",
    "print(a.count(2))  # Should give count of 2 as 3"
   ]
  },
  {
   "cell_type": "markdown",
   "id": "4c48f6ae",
   "metadata": {},
   "source": [
    "Tuples are immutable so they have only two in built emthods as compared to list."
   ]
  },
  {
   "cell_type": "markdown",
   "id": "e394bfe8",
   "metadata": {},
   "source": [
    "### Q3. Which collection datatypes in python do not allow duplicate items? Write a code using a set to remove duplicates from the given list. List = [1, 1, 1, 2, 1, 3, 1, 4, 2, 1, 2, 2, 2, 3, 2, 4, 3, 1, 3, 2, 3, 3, 3, 4, 4, 1, 4, 2, 4, 3, 4, 4]\n",
    "\n",
    "Sets do allow duplicate items"
   ]
  },
  {
   "cell_type": "code",
   "execution_count": 6,
   "id": "cb08ecf2",
   "metadata": {},
   "outputs": [
    {
     "data": {
      "text/plain": [
       "{1, 2, 3, 4}"
      ]
     },
     "execution_count": 6,
     "metadata": {},
     "output_type": "execute_result"
    }
   ],
   "source": [
    "List =[1, 1, 1, 2, 1, 3, 1, 4, 2, 1, 2, 2, 2, 3, 2, 4, 3, 1, 3, 2, 3, 3, 3, 4, 4, 1, 4, 2, 4, 3, 4, 4]\n",
    "a=set(List)\n",
    "a"
   ]
  },
  {
   "cell_type": "markdown",
   "id": "242ecceb",
   "metadata": {},
   "source": [
    "### Q4. Explain the difference between the union() and update() methods for a set. Give an example of each method."
   ]
  },
  {
   "cell_type": "code",
   "execution_count": 26,
   "id": "b94741c5",
   "metadata": {},
   "outputs": [
    {
     "name": "stdout",
     "output_type": "stream",
     "text": [
      "{2, 4, 5, 6, 7, 8, 9}\n",
      "{1, 2, 3, 4, 5, 6, 7, 8, 9, 'Rahul'}\n",
      "Union - Will include only the things from set b which are common with set a\n",
      "Update - Will include all the things additional in the set b\n"
     ]
    }
   ],
   "source": [
    "a={4,2,5,6,7,8,9,2,5,2}\n",
    "b={1,2,3,\"Rahul\"}\n",
    "a.union(b)\n",
    "print(a)\n",
    "a.update(b)\n",
    "print(a)\n",
    "print('Union - Will include only the things from set b which are common with set a')\n",
    "print('Update - Will include all the things additional in the set b')"
   ]
  },
  {
   "cell_type": "markdown",
   "id": "43cd986a",
   "metadata": {},
   "source": [
    "### Q5. What is a dictionary? Give an example. Also, state whether a dictionary is ordered or unordered.\n",
    "Dictionary is a builtin Data Type in Python. It stores the value in Key, Value Pair. It is iterable and indexable and ordered data type. It does not allow storing Duplicate members"
   ]
  },
  {
   "cell_type": "markdown",
   "id": "80f1c8b1",
   "metadata": {},
   "source": [
    "### Q6. Can we create a nested dictionary? If so, please give an example by creating a simple one-level nested dictionary.\n",
    "\n",
    "Yes"
   ]
  },
  {
   "cell_type": "code",
   "execution_count": 27,
   "id": "af40b79d",
   "metadata": {},
   "outputs": [],
   "source": [
    "a={\"Student1\":{\"Gaurav\":\"Maths & Science\"}}"
   ]
  },
  {
   "cell_type": "code",
   "execution_count": 29,
   "id": "8df7c638",
   "metadata": {},
   "outputs": [
    {
     "data": {
      "text/plain": [
       "'Maths & Science'"
      ]
     },
     "execution_count": 29,
     "metadata": {},
     "output_type": "execute_result"
    }
   ],
   "source": [
    "a[\"Student1\"][\"Gaurav\"]"
   ]
  },
  {
   "cell_type": "markdown",
   "id": "1dbf8c9f",
   "metadata": {},
   "source": [
    "### Q7. Using setdefault() method, create key named topics in the given dictionary and also add the value of the key as this list ['Python', 'Machine Learning’, 'Deep Learning']"
   ]
  },
  {
   "cell_type": "code",
   "execution_count": 43,
   "id": "3d968e2b",
   "metadata": {},
   "outputs": [],
   "source": [
    "a={\"language\":['Python', 'Machine Learning','Deep Learning']}"
   ]
  },
  {
   "cell_type": "code",
   "execution_count": 45,
   "id": "57fcb8fe",
   "metadata": {},
   "outputs": [
    {
     "data": {
      "text/plain": [
       "['Python', 'Machine Learning', 'Deep Learning']"
      ]
     },
     "execution_count": 45,
     "metadata": {},
     "output_type": "execute_result"
    }
   ],
   "source": [
    "a.setdefault(\"language\")"
   ]
  },
  {
   "cell_type": "markdown",
   "id": "ae58ab32",
   "metadata": {},
   "source": [
    "### Q8. What are the three view objects in dictionaries? Use the three in-built methods in python to display these three view objects for the given dictionary. dict1 = {'Sport': 'Cricket' , 'Teams': ['India', 'Australia', 'England', 'South Africa', 'Sri Lanka', 'New Zealand']}"
   ]
  },
  {
   "cell_type": "code",
   "execution_count": 48,
   "id": "5be02529",
   "metadata": {},
   "outputs": [],
   "source": [
    "dict1={'Sport': 'Cricket' , 'Teams': ['India', 'Australia', 'England', 'South Africa', 'Sri Lanka', 'New Zealand']}"
   ]
  },
  {
   "cell_type": "code",
   "execution_count": 50,
   "id": "6c857d4b",
   "metadata": {},
   "outputs": [
    {
     "data": {
      "text/plain": [
       "'Cricket'"
      ]
     },
     "execution_count": 50,
     "metadata": {},
     "output_type": "execute_result"
    }
   ],
   "source": [
    "dict1['Sport']"
   ]
  },
  {
   "cell_type": "code",
   "execution_count": 51,
   "id": "330bd5a7",
   "metadata": {},
   "outputs": [
    {
     "data": {
      "text/plain": [
       "'Cricket'"
      ]
     },
     "execution_count": 51,
     "metadata": {},
     "output_type": "execute_result"
    }
   ],
   "source": [
    "dict1.get('Sport')"
   ]
  },
  {
   "cell_type": "code",
   "execution_count": 53,
   "id": "b4fdd733",
   "metadata": {},
   "outputs": [
    {
     "data": {
      "text/plain": [
       "'Cricket'"
      ]
     },
     "execution_count": 53,
     "metadata": {},
     "output_type": "execute_result"
    }
   ],
   "source": [
    "dict1.setdefault('Sport')"
   ]
  },
  {
   "cell_type": "code",
   "execution_count": null,
   "id": "243ae891",
   "metadata": {},
   "outputs": [],
   "source": []
  }
 ],
 "metadata": {
  "kernelspec": {
   "display_name": "Python 3 (ipykernel)",
   "language": "python",
   "name": "python3"
  },
  "language_info": {
   "codemirror_mode": {
    "name": "ipython",
    "version": 3
   },
   "file_extension": ".py",
   "mimetype": "text/x-python",
   "name": "python",
   "nbconvert_exporter": "python",
   "pygments_lexer": "ipython3",
   "version": "3.10.6"
  }
 },
 "nbformat": 4,
 "nbformat_minor": 5
}
