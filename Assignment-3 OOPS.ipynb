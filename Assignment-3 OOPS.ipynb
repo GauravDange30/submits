{
 "cells": [
  {
   "cell_type": "markdown",
   "id": "6bcd0a49",
   "metadata": {},
   "source": [
    "### Q1. Explain Class and Object with respect to Object-Oriented Programming. Give a suitable example.\n",
    "\n",
    "Classes in Python are basically constructors or blueprint for the obsjects. Whereas Objects are instances of the class. For Example: A company is a class and the employees are the objects which will be having attributes from the class."
   ]
  },
  {
   "cell_type": "markdown",
   "id": "ae4e400a",
   "metadata": {},
   "source": [
    "### Q2. Name the four pillars of OOPs.."
   ]
  },
  {
   "cell_type": "markdown",
   "id": "e26f7d76",
   "metadata": {},
   "source": [
    "Inheritance, Polymorphism, Encapsulation and Abstraction"
   ]
  },
  {
   "cell_type": "markdown",
   "id": "e394bfe8",
   "metadata": {},
   "source": [
    "### Q3. Explain why the __init__() function is used. Give a suitable example.\n",
    "\n",
    "Everytime a class is created __init__ function gets executed to assign attributes to its object. For example for a class when a object is created, we can assign attributes or features to it."
   ]
  },
  {
   "cell_type": "markdown",
   "id": "242ecceb",
   "metadata": {},
   "source": [
    "### Q4. Why self is used in OOPs?\n",
    "\n",
    "Self is used to reference the object to the attributes from the class. By using self we use attributes from the class."
   ]
  },
  {
   "cell_type": "markdown",
   "id": "43cd986a",
   "metadata": {},
   "source": [
    "### Q5. What is inheritance? Give an example for each type of inheritance.\n",
    "\n",
    "Inheritance allows us to define a class that inherits all the methods and properties from another class.\n",
    "Inheritance can be Single, Multiple, Multilevel,Hierarchal\n",
    "1. Single - Class created can use methods and attributes only from single Parent class.\n",
    "2. Multiple -Class created can use methods and attributes from multiple Parent class.\n",
    "3. Multilevel - Class created can use methods and attributes from Parent as well as Parent class of Parent classes.\n",
    "4. Hierarchal -Multiple Classes created can use methods and attributes only from Parent class.\n",
    "5. Hybrid -Class created  are combinated of Muliple inheritance classes."
   ]
  }
 ],
 "metadata": {
  "kernelspec": {
   "display_name": "Python 3 (ipykernel)",
   "language": "python",
   "name": "python3"
  },
  "language_info": {
   "codemirror_mode": {
    "name": "ipython",
    "version": 3
   },
   "file_extension": ".py",
   "mimetype": "text/x-python",
   "name": "python",
   "nbconvert_exporter": "python",
   "pygments_lexer": "ipython3",
   "version": "3.10.6"
  }
 },
 "nbformat": 4,
 "nbformat_minor": 5
}
